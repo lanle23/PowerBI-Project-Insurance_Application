{
 "cells": [
  {
   "cell_type": "code",
   "execution_count": 47,
   "id": "658d1f37",
   "metadata": {},
   "outputs": [],
   "source": [
    "import pandas as pd\n",
    "import sqlite3"
   ]
  },
  {
   "cell_type": "code",
   "execution_count": 48,
   "id": "dd8a4e4a",
   "metadata": {},
   "outputs": [
    {
     "data": {
      "text/plain": [
       "dict_keys(['Clients - Banking', 'Applications', 'Customers', 'Product', 'Bank Details'])"
      ]
     },
     "execution_count": 48,
     "metadata": {},
     "output_type": "execute_result"
    }
   ],
   "source": [
    "# Đọc tất cả các sheet từ file Excel\n",
    "dt = pd.read_excel('Insurance Applications.xlsx', sheet_name=None)\n",
    "# Kiểm tra các sheet\n",
    "dt.keys()"
   ]
  },
  {
   "cell_type": "code",
   "execution_count": 49,
   "id": "b71d68f2",
   "metadata": {},
   "outputs": [],
   "source": [
    "# Kết nối đến SQLite3 database\n",
    "conn = sqlite3.connect('Insurance Applications.db')\n",
    "# Chuyển dữ liệu từ các sheet sang SQLite3\n",
    "for sheets, df in dt.items():\n",
    "    df.to_sql(sheets, conn, if_exists = 'replace', index = False)\n",
    "# Đóng kết nối\n",
    "conn.close()"
   ]
  },
  {
   "cell_type": "code",
   "execution_count": 50,
   "id": "513760d4",
   "metadata": {},
   "outputs": [
    {
     "data": {
      "text/plain": [
       "Index(['Client ID', 'Name', 'Age', 'Sex', 'Location ID', 'Joined Bank',\n",
       "       'Banking Contact', 'Nationality', 'Occupation', 'Investment Advisor',\n",
       "       'Last Contact', 'Last Meeting', 'Fee Structure',\n",
       "       'Loyalty Classification', 'Banking Relationship', 'Estimated Income',\n",
       "       'Superannuation Savings', 'Amount of Credit Cards',\n",
       "       'Credit Card Balance', 'Bank Loans', 'Bank Deposits',\n",
       "       'Checking Accounts', 'Saving Accounts', 'Foreign Currency Account',\n",
       "       'Business Lending', 'Properties Owned', 'Risk Weighting'],\n",
       "      dtype='object')"
      ]
     },
     "execution_count": 50,
     "metadata": {},
     "output_type": "execute_result"
    }
   ],
   "source": [
    "# dt = pd.read_excel('Insurance Applications.xlsx', sheet_name='Clients - Banking')\n",
    "# dt.columns"
   ]
  },
  {
   "cell_type": "code",
   "execution_count": 46,
   "id": "8dde6aa0",
   "metadata": {},
   "outputs": [],
   "source": [
    "# dt[dt['Client ID'].duplicated()]"
   ]
  },
  {
   "cell_type": "code",
   "execution_count": 41,
   "id": "0035c66c",
   "metadata": {},
   "outputs": [],
   "source": [
    "# dt[dt[['Name','Sex', 'Nationality']].duplicated()]"
   ]
  },
  {
   "cell_type": "code",
   "execution_count": 42,
   "id": "29e2352b",
   "metadata": {},
   "outputs": [],
   "source": [
    "# dt[dt['Name'] == 'Jeremy Sullivan']"
   ]
  },
  {
   "cell_type": "code",
   "execution_count": 43,
   "id": "bf52874a",
   "metadata": {},
   "outputs": [],
   "source": [
    "# sorted(dt1['Customer ID'].unique())"
   ]
  },
  {
   "cell_type": "code",
   "execution_count": 29,
   "id": "93ddc367",
   "metadata": {},
   "outputs": [
    {
     "data": {
      "text/plain": [
       "Index(['Application ID', 'Application Type', 'Customer ID', 'Group Name ID',\n",
       "       'Action', 'RM ID', 'Entered Date', 'Closed Date', 'Next Review Date',\n",
       "       'Product ID', 'Start Date', 'Term (mths)', 'Expiry Date',\n",
       "       'Rate Applied', 'Margin Agreed', 'Capital', 'Annual Interest Income',\n",
       "       'Collateral Start Date', 'Collateral Type', 'Face Value',\n",
       "       'Conversion Factor', 'Rating', 'Limits Rating', 'Expected Loss',\n",
       "       'Covenants', 'Covenant Type', 'Application Error'],\n",
       "      dtype='object')"
      ]
     },
     "execution_count": 29,
     "metadata": {},
     "output_type": "execute_result"
    }
   ],
   "source": [
    "# dt1 = pd.read_excel('Insurance Applications.xlsx', sheet_name='Applications')\n",
    "# dt1.columns"
   ]
  },
  {
   "cell_type": "code",
   "execution_count": 53,
   "id": "cc892527",
   "metadata": {},
   "outputs": [
    {
     "data": {
      "text/plain": [
       "Index(['Customer ID', 'Customer Name', 'Group ID', 'Group Name',\n",
       "       'Relationship Established', 'Customer Rating', 'Industry', 'Address'],\n",
       "      dtype='object')"
      ]
     },
     "execution_count": 53,
     "metadata": {},
     "output_type": "execute_result"
    }
   ],
   "source": [
    "# dt2 = pd.read_excel('Insurance Applications.xlsx', sheet_name='Customers')\n",
    "# dt2.columns"
   ]
  },
  {
   "cell_type": "code",
   "execution_count": 54,
   "id": "405e0a1e",
   "metadata": {},
   "outputs": [
    {
     "data": {
      "text/plain": [
       "Index(['Product Group ID', 'Product Name', 'Type', 'Currency',\n",
       "       'Current Ref. Rate', 'Fixed or Floating', 'Payment Profile'],\n",
       "      dtype='object')"
      ]
     },
     "execution_count": 54,
     "metadata": {},
     "output_type": "execute_result"
    }
   ],
   "source": [
    "# dt3 = pd.read_excel('Insurance Applications.xlsx', sheet_name='Product')\n",
    "# dt3.columns"
   ]
  },
  {
   "cell_type": "code",
   "execution_count": 55,
   "id": "75db2365",
   "metadata": {},
   "outputs": [
    {
     "data": {
      "text/plain": [
       "Index(['Relationship Manager ID', 'Relationship Manager', 'Bank Name',\n",
       "       'Branch Region', 'Branch Name'],\n",
       "      dtype='object')"
      ]
     },
     "execution_count": 55,
     "metadata": {},
     "output_type": "execute_result"
    }
   ],
   "source": [
    "# dt4 = pd.read_excel('Insurance Applications.xlsx', sheet_name='Bank Details')\n",
    "# dt4.columns"
   ]
  },
  {
   "cell_type": "code",
   "execution_count": 1,
   "id": "0d8ae673",
   "metadata": {},
   "outputs": [],
   "source": [
    "# sorted(dt4['Relationship Manager'].unique())"
   ]
  },
  {
   "cell_type": "code",
   "execution_count": 45,
   "id": "fb6a8902",
   "metadata": {},
   "outputs": [],
   "source": [
    "# print(len(dt['Banking Contact'].unique()))\n",
    "# print(len(dt4['Relationship Manager'].unique()))\n",
    "# print(sorted(dt['Banking Contact'].unique()) == sorted(dt4['Relationship Manager'].unique()))"
   ]
  }
 ],
 "metadata": {
  "kernelspec": {
   "display_name": "Python 3 (ipykernel)",
   "language": "python",
   "name": "python3"
  },
  "language_info": {
   "codemirror_mode": {
    "name": "ipython",
    "version": 3
   },
   "file_extension": ".py",
   "mimetype": "text/x-python",
   "name": "python",
   "nbconvert_exporter": "python",
   "pygments_lexer": "ipython3",
   "version": "3.9.13"
  }
 },
 "nbformat": 4,
 "nbformat_minor": 5
}
